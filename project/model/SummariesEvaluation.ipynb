{
 "cells": [
  {
   "cell_type": "code",
   "execution_count": 1,
   "metadata": {},
   "outputs": [],
   "source": [
    "import rouge"
   ]
  },
  {
   "cell_type": "code",
   "execution_count": 14,
   "metadata": {},
   "outputs": [],
   "source": [
    "from rouge import Rouge \n",
    "\n",
    "hypothesis = \"Barcelona move three points clear of Real Madrid with victory at Mallorca. Sweden striker Zlatan Ibrahimovic nets winner for his third goal in a week.\"\n",
    "\n",
    "reference = \"Atan Ibrahimovic scored twice as PSG beat Getafe at the world cup # Zlatan winner for first time since\"\n",
    "\n",
    "rouge = Rouge()\n",
    "scores = rouge.get_scores(hypothesis, reference)"
   ]
  },
  {
   "cell_type": "code",
   "execution_count": 15,
   "metadata": {},
   "outputs": [
    {
     "data": {
      "text/plain": [
       "[{'rouge-1': {'f': 0.2272727223657026, 'p': 0.2, 'r': 0.2631578947368421},\n",
       "  'rouge-2': {'f': 0.047619042721088946,\n",
       "   'p': 0.041666666666666664,\n",
       "   'r': 0.05555555555555555},\n",
       "  'rouge-l': {'f': 0.1754136274677412, 'p': 0.16, 'r': 0.21052631578947367}}]"
      ]
     },
     "execution_count": 15,
     "metadata": {},
     "output_type": "execute_result"
    }
   ],
   "source": [
    "scores"
   ]
  },
  {
   "cell_type": "code",
   "execution_count": null,
   "metadata": {},
   "outputs": [],
   "source": []
  }
 ],
 "metadata": {
  "kernelspec": {
   "display_name": "Python 3",
   "language": "python",
   "name": "python3"
  },
  "language_info": {
   "codemirror_mode": {
    "name": "ipython",
    "version": 3
   },
   "file_extension": ".py",
   "mimetype": "text/x-python",
   "name": "python",
   "nbconvert_exporter": "python",
   "pygments_lexer": "ipython3",
   "version": "3.6.5"
  }
 },
 "nbformat": 4,
 "nbformat_minor": 2
}
