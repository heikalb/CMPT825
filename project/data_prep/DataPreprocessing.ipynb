{
 "cells": [
  {
   "cell_type": "code",
   "execution_count": 64,
   "metadata": {},
   "outputs": [],
   "source": [
    "import numpy as np\n",
    "import pandas as pd\n",
    "pd.set_option('display.max_colwidth', -1)\n",
    "pd.set_option('display.max_rows', 999)\n",
    "pd.set_option('display.max_columns', 999)\n",
    "pd.set_option('display.width', 999)\n",
    "import glob\n",
    "import os\n",
    "from sklearn.feature_extraction.text import TfidfVectorizer, CountVectorizer\n",
    "from sklearn.decomposition import LatentDirichletAllocation\n",
    "from bs4 import BeautifulSoup\n",
    "from nltk.corpus import stopwords\n",
    "import warnings\n",
    "warnings.filterwarnings('ignore')\n",
    "import re"
   ]
  },
  {
   "cell_type": "code",
   "execution_count": 87,
   "metadata": {},
   "outputs": [],
   "source": [
    "businessFileList = sorted(glob.glob('data/BBC News Summary/News Articles/business/*.txt'))\n",
    "entertainmentFileList = sorted(glob.glob('data/BBC News Summary/News Articles/entertainment/*.txt'))\n",
    "politicsFileList = sorted(glob.glob('data/BBC News Summary/News Articles/politics/*.txt'))\n",
    "techFileList = sorted(glob.glob('data/BBC News Summary/News Articles/tech/*.txt'))"
   ]
  },
  {
   "cell_type": "code",
   "execution_count": 128,
   "metadata": {},
   "outputs": [],
   "source": [
    "businessSummFileList = sorted(glob.glob('data/BBC News Summary/Summaries/business/*.txt'))\n",
    "entertainmentSummFileList = sorted(glob.glob('data/BBC News Summary/Summaries/entertainment/*.txt'))\n",
    "politicsSummFileList = sorted(glob.glob('data/BBC News Summary/Summaries/politics/*.txt'))\n",
    "techSummFileList = sorted(glob.glob('data/BBC News Summary/Summaries/tech/*.txt'))"
   ]
  },
  {
   "cell_type": "code",
   "execution_count": 76,
   "metadata": {},
   "outputs": [],
   "source": [
    "def readData(fileList):\n",
    "    corpus = []\n",
    "\n",
    "    for filePath in fileList:\n",
    "        with open(filePath) as f_input:\n",
    "            corpus.append(f_input.read()) \n",
    "    return corpus"
   ]
  },
  {
   "cell_type": "code",
   "execution_count": 84,
   "metadata": {},
   "outputs": [],
   "source": [
    "business_corpus = readData(businessFileList)\n",
    "entertainment_corpus = readData(entertainmentFileList)\n",
    "politics_corpus = readData(politicsFileList)\n",
    "tech_corpus = readData(techFileList)"
   ]
  },
  {
   "cell_type": "code",
   "execution_count": 130,
   "metadata": {},
   "outputs": [],
   "source": [
    "businesssumm_corpus = readData(businessSummFileList)\n",
    "entertainmentsumm_corpus = readData(entertainmentSummFileList)\n",
    "politicssumm_corpus = readData(politicsSummFileList)\n",
    "techsumm_corpus = readData(techSummFileList)"
   ]
  },
  {
   "cell_type": "code",
   "execution_count": 85,
   "metadata": {},
   "outputs": [],
   "source": [
    "businessDf = pd.DataFrame(np.array(business_corpus), columns = ['text'])\n",
    "entertainmentDf = pd.DataFrame(np.array(entertainment_corpus), columns = ['text'])\n",
    "politicsDf = pd.DataFrame(np.array(politics_corpus), columns = ['text'])\n",
    "techDf = pd.DataFrame(np.array(tech_corpus), columns = ['text'])"
   ]
  },
  {
   "cell_type": "code",
   "execution_count": 131,
   "metadata": {},
   "outputs": [],
   "source": [
    "businessSummDf = pd.DataFrame(np.array(businesssumm_corpus), columns = ['text'])\n",
    "entertainmentSummDf = pd.DataFrame(np.array(entertainmentsumm_corpus), columns = ['text'])\n",
    "politicsSummDf = pd.DataFrame(np.array(politicssumm_corpus), columns = ['text'])\n",
    "techSummDf = pd.DataFrame(np.array(techsumm_corpus), columns = ['text'])"
   ]
  },
  {
   "cell_type": "code",
   "execution_count": 86,
   "metadata": {},
   "outputs": [],
   "source": [
    "def review_to_wordlist(text, remove_stopwords=True ):\n",
    "    # 1. Remove HTML\n",
    "    review_text = BeautifulSoup(text).get_text()\n",
    "    # 2. Remove non-letters\n",
    "    review_text = re.sub(\"[^a-zA-Z]\",\" \", review_text)\n",
    "    # 3. Convert words to lower case and split them\n",
    "    words = review_text.lower().split()\n",
    "    # 4. Optionally remove stop words (false by default)\n",
    "    if remove_stopwords:\n",
    "        stops = set(stopwords.words(\"english\"))\n",
    "        words = [w for w in words if not w in stops]\n",
    "    if len(words) == 0:\n",
    "        words = ['NULL']\n",
    "    return( \" \".join(words ))"
   ]
  },
  {
   "cell_type": "code",
   "execution_count": 140,
   "metadata": {},
   "outputs": [],
   "source": [
    "num_articles = politicsDf.shape[0]\n",
    "documents_text = []\n",
    "for i in range(0, num_articles):\n",
    "    documents_text.append(review_to_wordlist(politicsDf[\"text\"][i] ) )\n",
    "    \n",
    "politicsDf['cleaned_text'] = pd.Series(documents_text)"
   ]
  },
  {
   "cell_type": "code",
   "execution_count": 142,
   "metadata": {},
   "outputs": [],
   "source": [
    "num_articles = techSummDf.shape[0]\n",
    "documents_text = []\n",
    "for i in range(0, num_articles):\n",
    "    documents_text.append(review_to_wordlist(techSummDf[\"text\"][i] ) )\n",
    "    \n",
    "techSummDf['cleaned_text'] = pd.Series(documents_text)"
   ]
  },
  {
   "cell_type": "code",
   "execution_count": 133,
   "metadata": {},
   "outputs": [],
   "source": [
    "businessSummDf.to_csv('BusinessSummary_Cleaned.csv')"
   ]
  },
  {
   "cell_type": "code",
   "execution_count": 141,
   "metadata": {},
   "outputs": [],
   "source": [
    "politicsDf.to_csv('Politics_Cleaned.csv')"
   ]
  },
  {
   "cell_type": "code",
   "execution_count": 135,
   "metadata": {},
   "outputs": [],
   "source": [
    "entertainmentSummDf.to_csv('EntertainmentSummary_Cleaned.csv')"
   ]
  },
  {
   "cell_type": "code",
   "execution_count": 143,
   "metadata": {},
   "outputs": [],
   "source": [
    "techSummDf.to_csv('TechSummary_Cleaned.csv')"
   ]
  },
  {
   "cell_type": "code",
   "execution_count": 121,
   "metadata": {},
   "outputs": [],
   "source": [
    "documents = businessDf.cleaned_text.values.astype('U')\n",
    "no_features = 10000\n",
    "no_topics = 20\n",
    "no_top_words = 30"
   ]
  },
  {
   "cell_type": "code",
   "execution_count": 122,
   "metadata": {},
   "outputs": [],
   "source": [
    "\"\"\"\n",
    "Summary:\n",
    "    Displays all the relevant topics related to a given topic name\n",
    "\"\"\"\n",
    "def display_relevant_topics(model, feature_names, no_top_words):\n",
    "    feature_names_list = []\n",
    "    topic_id_list = []\n",
    "    for topic_idx, topic in enumerate(model.components_):\n",
    "        topic_id = topic_idx\n",
    "        features = \", \".join([feature_names[i]\n",
    "                        for i in topic.argsort()[:-no_top_words - 1:-1]]) \n",
    "        topic_id_list.append(topic_id)\n",
    "        feature_names_list.append(features)\n",
    "    \n",
    "    topic_df = pd.DataFrame({'Topic_ID':topic_id_list,'Topics':feature_names_list})\n",
    "    return topic_df\n",
    "\n",
    "tf_vectorizer = CountVectorizer(max_df=0.95, max_features=no_features, stop_words='english', min_df=2)\n",
    "tf = tf_vectorizer.fit_transform(documents)\n",
    "tf_feature_names = tf_vectorizer.get_feature_names()\n",
    "\n",
    "lda = LatentDirichletAllocation(n_components=no_topics, max_iter=5, learning_method='online',\\\n",
    "                                learning_offset=50.,random_state=1)\n",
    "lda_new = lda.fit(tf)\n",
    "lda_topic_df = display_relevant_topics(lda_new, tf_feature_names, no_top_words)\n",
    "lda_topic_df.to_csv('Business_topics.csv')"
   ]
  },
  {
   "cell_type": "code",
   "execution_count": 126,
   "metadata": {},
   "outputs": [
    {
     "data": {
      "text/html": [
       "<div>\n",
       "<style scoped>\n",
       "    .dataframe tbody tr th:only-of-type {\n",
       "        vertical-align: middle;\n",
       "    }\n",
       "\n",
       "    .dataframe tbody tr th {\n",
       "        vertical-align: top;\n",
       "    }\n",
       "\n",
       "    .dataframe thead th {\n",
       "        text-align: right;\n",
       "    }\n",
       "</style>\n",
       "<table border=\"1\" class=\"dataframe\">\n",
       "  <thead>\n",
       "    <tr style=\"text-align: right;\">\n",
       "      <th></th>\n",
       "      <th>Topics</th>\n",
       "    </tr>\n",
       "  </thead>\n",
       "  <tbody>\n",
       "    <tr>\n",
       "      <th>0</th>\n",
       "      <td>food, ethiopia, tonnes, assistance, agriculture, crop, fao, crops, said, emergency, million, year, cereals, indirectly, prolonged, company, recommend, car, production, southern, calculated, india, domestic, locally, survival, new, contributed, recommended, mr, needed</td>\n",
       "    </tr>\n",
       "    <tr>\n",
       "      <th>1</th>\n",
       "      <td>mini, bmw, rover, cars, factory, ferrari, produced, cooper, oxford, maserati, car, launched, model, mg, cheapest, longbridge, fiat, automotive, new, invested, initially, said, brand, waiting, producing, mercedes, bn, euros, romeo, machinery</td>\n",
       "    </tr>\n",
       "    <tr>\n",
       "      <th>2</th>\n",
       "      <td>boeing, orange, brokers, airbus, telecom, lr, planes, said, fsa, contracts, commissions, aircraft, pentagon, lloyd, plane, customers, france, colour, ms, force, mr, orders, new, centres, bn, insurance, company, air, airlines, contract</td>\n",
       "    </tr>\n",
       "    <tr>\n",
       "      <th>3</th>\n",
       "      <td>fao, dollar, said, agricultural, developing, bn, subsidies, euro, countries, commodity, trade, current, situated, reasonably, deficit, slide, tariffs, firm, market, analysts, economy, growth, record, conclude, fundamentals, liberalise, barriers, lies, yen, hands</td>\n",
       "    </tr>\n",
       "    <tr>\n",
       "      <th>4</th>\n",
       "      <td>said, jobs, year, growth, economy, new, financial, economic, japan, january, low, month, president, world, job, unemployment, fall, card, deal, firm, bn, rise, firms, bank, oil, japanese, added, december, turkcell, high</td>\n",
       "    </tr>\n",
       "    <tr>\n",
       "      <th>5</th>\n",
       "      <td>beer, said, alternatives, breweries, draft, drink, drinks, market, year, bn, brewers, profits, brewery, turns, alcohol, launches, seawater, derived, prices, spirits, low, cost, mainstay, sweet, new, established, combines, taxed, jobs, nature</td>\n",
       "    </tr>\n",
       "    <tr>\n",
       "      <th>6</th>\n",
       "      <td>said, year, bn, fuel, quarter, rise, revenues, tax, government, reuters, airlines, ba, company, sales, economy, group, yukos, profits, cost, eu, chief, growth, firm, mr, costs, executive, long, ministers, new, aid</td>\n",
       "    </tr>\n",
       "    <tr>\n",
       "      <th>7</th>\n",
       "      <td>said, year, nigeria, people, government, work, quarter, million, growth, rates, economy, germany, figures, rate, production, rise, new, announced, german, jobless, unemployment, crop, total, rose, world, told, country, sector, statistics, hopes</td>\n",
       "    </tr>\n",
       "    <tr>\n",
       "      <th>8</th>\n",
       "      <td>fiat, gm, car, motors, engines, alfa, romeo, marchionne, auto, outright, alliance, agnelli, opel, said, recall, sell, maserati, rates, buy, wagoner, stake, sergio, chevrolet, vehicles, saab, ferrari, rick, carmaker, safety, gianni</td>\n",
       "    </tr>\n",
       "    <tr>\n",
       "      <th>9</th>\n",
       "      <td>lending, rupee, year, mortgage, bn, figures, said, bank, india, december, rating, november, grade, upgrade, market, approvals, currency, basically, rose, remittances, association, bba, sessions, rise, analysts, home, january, increase, level, romania</td>\n",
       "    </tr>\n",
       "    <tr>\n",
       "      <th>10</th>\n",
       "      <td>rover, shanghai, saic, longbridge, automotive, said, mg, tie, deal, chinese, quarter, sales, models, growth, observer, plant, rise, spending, ask, market, rate, bn, paper, investment, midlands, expected, commented, ft, commission, retail</td>\n",
       "    </tr>\n",
       "    <tr>\n",
       "      <th>11</th>\n",
       "      <td>mr, bn, said, sales, worldcom, mittal, company, steel, ebbers, year, accounting, firm, told, chief, fraud, cut, sullivan, profits, gm, make, new, shares, budget, witness, south, world, jobs, boss, tax, lawyers</td>\n",
       "    </tr>\n",
       "    <tr>\n",
       "      <th>12</th>\n",
       "      <td>bn, said, year, countries, barclays, nations, economy, tobacco, world, government, india, group, company, products, growth, market, court, yukos, bank, sales, tax, cost, smoking, swiss, profits, uk, case, beer, impact, developing</td>\n",
       "    </tr>\n",
       "    <tr>\n",
       "      <th>13</th>\n",
       "      <td>mr, ebbers, worldcom, mci, fraud, sullivan, car, glazer, accounting, firm, said, trial, mercedes, nissan, chief, verizon, bmw, bn, company, mitsubishi, qwest, cars, charges, telecoms, told, new, guilty, hybrid, financial, vehicles</td>\n",
       "    </tr>\n",
       "    <tr>\n",
       "      <th>14</th>\n",
       "      <td>said, flights, passengers, profits, sales, cards, year, ba, euros, airlines, bn, inbev, card, fraud, saudi, internet, flight, airways, lufthansa, music, women, airline, plastic, absa, apacs, uk, identity, credit, profit, new</td>\n",
       "    </tr>\n",
       "    <tr>\n",
       "      <th>15</th>\n",
       "      <td>crude, prices, barrel, bmw, opec, oil, year, sales, said, weather, mr, temperatures, asia, cold, demand, rose, bn, brent, new, winter, budget, cut, mini, dollar, figures, growth, heating, china, highs, deficit</td>\n",
       "    </tr>\n",
       "    <tr>\n",
       "      <th>16</th>\n",
       "      <td>airlines, new, said, passengers, fuel, manufacturing, eu, european, tax, flight, jet, compensation, costs, survey, transport, flights, reforms, weather, year, ministers, earnings, concern, offer, world, euros, staff, rupees, added, indian, january</td>\n",
       "    </tr>\n",
       "    <tr>\n",
       "      <th>17</th>\n",
       "      <td>said, bn, year, mr, market, company, new, growth, economy, firm, government, bank, economic, sales, oil, shares, world, years, prices, china, chief, business, companies, uk, expected, analysts, state, yukos, deal, group</td>\n",
       "    </tr>\n",
       "    <tr>\n",
       "      <th>18</th>\n",
       "      <td>ufj, sumitomo, telegraph, journalists, mitsubishi, printing, colour, year, sales, newspapers, bank, consultation, japanese, japan, china, strike, titles, defeat, guardian, formality, integration, enabling, tokyo, merge, mitsui, ends, alliances, daily, said, largest</td>\n",
       "    </tr>\n",
       "    <tr>\n",
       "      <th>19</th>\n",
       "      <td>said, government, bn, rank, argentina, film, uk, group, debt, offer, year, court, tobacco, firms, results, friday, business, hard, firm, years, case, smoking, seen, leisure, including, new, rock, gaming, companies, unit</td>\n",
       "    </tr>\n",
       "  </tbody>\n",
       "</table>\n",
       "</div>"
      ],
      "text/plain": [
       "                                                                                                                                                                                                                                                                         Topics\n",
       "0   food, ethiopia, tonnes, assistance, agriculture, crop, fao, crops, said, emergency, million, year, cereals, indirectly, prolonged, company, recommend, car, production, southern, calculated, india, domestic, locally, survival, new, contributed, recommended, mr, needed\n",
       "1   mini, bmw, rover, cars, factory, ferrari, produced, cooper, oxford, maserati, car, launched, model, mg, cheapest, longbridge, fiat, automotive, new, invested, initially, said, brand, waiting, producing, mercedes, bn, euros, romeo, machinery                           \n",
       "2   boeing, orange, brokers, airbus, telecom, lr, planes, said, fsa, contracts, commissions, aircraft, pentagon, lloyd, plane, customers, france, colour, ms, force, mr, orders, new, centres, bn, insurance, company, air, airlines, contract                                 \n",
       "3   fao, dollar, said, agricultural, developing, bn, subsidies, euro, countries, commodity, trade, current, situated, reasonably, deficit, slide, tariffs, firm, market, analysts, economy, growth, record, conclude, fundamentals, liberalise, barriers, lies, yen, hands     \n",
       "4   said, jobs, year, growth, economy, new, financial, economic, japan, january, low, month, president, world, job, unemployment, fall, card, deal, firm, bn, rise, firms, bank, oil, japanese, added, december, turkcell, high                                                \n",
       "5   beer, said, alternatives, breweries, draft, drink, drinks, market, year, bn, brewers, profits, brewery, turns, alcohol, launches, seawater, derived, prices, spirits, low, cost, mainstay, sweet, new, established, combines, taxed, jobs, nature                          \n",
       "6   said, year, bn, fuel, quarter, rise, revenues, tax, government, reuters, airlines, ba, company, sales, economy, group, yukos, profits, cost, eu, chief, growth, firm, mr, costs, executive, long, ministers, new, aid                                                      \n",
       "7   said, year, nigeria, people, government, work, quarter, million, growth, rates, economy, germany, figures, rate, production, rise, new, announced, german, jobless, unemployment, crop, total, rose, world, told, country, sector, statistics, hopes                       \n",
       "8   fiat, gm, car, motors, engines, alfa, romeo, marchionne, auto, outright, alliance, agnelli, opel, said, recall, sell, maserati, rates, buy, wagoner, stake, sergio, chevrolet, vehicles, saab, ferrari, rick, carmaker, safety, gianni                                     \n",
       "9   lending, rupee, year, mortgage, bn, figures, said, bank, india, december, rating, november, grade, upgrade, market, approvals, currency, basically, rose, remittances, association, bba, sessions, rise, analysts, home, january, increase, level, romania                 \n",
       "10  rover, shanghai, saic, longbridge, automotive, said, mg, tie, deal, chinese, quarter, sales, models, growth, observer, plant, rise, spending, ask, market, rate, bn, paper, investment, midlands, expected, commented, ft, commission, retail                              \n",
       "11  mr, bn, said, sales, worldcom, mittal, company, steel, ebbers, year, accounting, firm, told, chief, fraud, cut, sullivan, profits, gm, make, new, shares, budget, witness, south, world, jobs, boss, tax, lawyers                                                          \n",
       "12  bn, said, year, countries, barclays, nations, economy, tobacco, world, government, india, group, company, products, growth, market, court, yukos, bank, sales, tax, cost, smoking, swiss, profits, uk, case, beer, impact, developing                                      \n",
       "13  mr, ebbers, worldcom, mci, fraud, sullivan, car, glazer, accounting, firm, said, trial, mercedes, nissan, chief, verizon, bmw, bn, company, mitsubishi, qwest, cars, charges, telecoms, told, new, guilty, hybrid, financial, vehicles                                     \n",
       "14  said, flights, passengers, profits, sales, cards, year, ba, euros, airlines, bn, inbev, card, fraud, saudi, internet, flight, airways, lufthansa, music, women, airline, plastic, absa, apacs, uk, identity, credit, profit, new                                           \n",
       "15  crude, prices, barrel, bmw, opec, oil, year, sales, said, weather, mr, temperatures, asia, cold, demand, rose, bn, brent, new, winter, budget, cut, mini, dollar, figures, growth, heating, china, highs, deficit                                                          \n",
       "16  airlines, new, said, passengers, fuel, manufacturing, eu, european, tax, flight, jet, compensation, costs, survey, transport, flights, reforms, weather, year, ministers, earnings, concern, offer, world, euros, staff, rupees, added, indian, january                    \n",
       "17  said, bn, year, mr, market, company, new, growth, economy, firm, government, bank, economic, sales, oil, shares, world, years, prices, china, chief, business, companies, uk, expected, analysts, state, yukos, deal, group                                                \n",
       "18  ufj, sumitomo, telegraph, journalists, mitsubishi, printing, colour, year, sales, newspapers, bank, consultation, japanese, japan, china, strike, titles, defeat, guardian, formality, integration, enabling, tokyo, merge, mitsui, ends, alliances, daily, said, largest  \n",
       "19  said, government, bn, rank, argentina, film, uk, group, debt, offer, year, court, tobacco, firms, results, friday, business, hard, firm, years, case, smoking, seen, leisure, including, new, rock, gaming, companies, unit                                                "
      ]
     },
     "execution_count": 126,
     "metadata": {},
     "output_type": "execute_result"
    }
   ],
   "source": [
    "business_topics = pd.read_csv('Business_topics.csv')\n",
    "business_topics.drop(['Unnamed: 0', 'Topic_ID'], axis = 1)"
   ]
  },
  {
   "cell_type": "code",
   "execution_count": null,
   "metadata": {},
   "outputs": [],
   "source": []
  }
 ],
 "metadata": {
  "kernelspec": {
   "display_name": "Python 3",
   "language": "python",
   "name": "python3"
  },
  "language_info": {
   "codemirror_mode": {
    "name": "ipython",
    "version": 3
   },
   "file_extension": ".py",
   "mimetype": "text/x-python",
   "name": "python",
   "nbconvert_exporter": "python",
   "pygments_lexer": "ipython3",
   "version": "3.6.3"
  }
 },
 "nbformat": 4,
 "nbformat_minor": 2
}
