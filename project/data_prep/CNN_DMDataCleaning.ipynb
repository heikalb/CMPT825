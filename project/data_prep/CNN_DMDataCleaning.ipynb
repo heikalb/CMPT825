{
 "cells": [
  {
   "cell_type": "code",
   "execution_count": 26,
   "metadata": {},
   "outputs": [],
   "source": [
    "from os import listdir\n",
    "import string\n",
    " \n",
    "# load doc into memory\n",
    "def load_doc(filename):\n",
    "    file = open(filename, encoding='utf-8')\n",
    "    text = file.read()\n",
    "    file.close()\n",
    "    return text\n",
    " \n",
    "# split a document into news story and highlights\n",
    "def split_story(doc):\n",
    "    index = doc.find('@highlight')\n",
    "    story, highlights = doc[:index], doc[index:].split('@highlight')\n",
    "    highlights = [h.strip() for h in highlights if len(h) > 0]\n",
    "    return story, highlights\n",
    " \n",
    "# load all stories in a directory\n",
    "def load_stories(directory):\n",
    "    stories = list()\n",
    "    for name in listdir(directory):\n",
    "        filename = directory + '/' + name\n",
    "        doc = load_doc(filename)\n",
    "        story, highlights = split_story(doc)\n",
    "        stories.append({'story':story, 'highlights':highlights})\n",
    "    return stories\n",
    " \n",
    "# clean a list of lines\n",
    "def clean_lines(lines):\n",
    "    cleaned = list()\n",
    "    table = str.maketrans('', '', string.punctuation)\n",
    "    for line in lines:\n",
    "        index = line.find('(CNN) -- ')\n",
    "        if index > -1:\n",
    "            line = line[index+len('(CNN)'):]\n",
    "        line = line.split()\n",
    "        line = [word.lower() for word in line]\n",
    "        line = [w.translate(table) for w in line]\n",
    "        line = [word for word in line if word.isalpha()]\n",
    "        cleaned.append(' '.join(line))\n",
    "    cleaned = [c for c in cleaned if len(c) > 0]\n",
    "    return cleaned"
   ]
  },
  {
   "cell_type": "code",
   "execution_count": 56,
   "metadata": {},
   "outputs": [
    {
     "name": "stdout",
     "output_type": "stream",
     "text": [
      "Loaded Stories 92579\n"
     ]
    }
   ],
   "source": [
    "cnn_directory = '../../../Documents/cnn/stories/'\n",
    "cnn_stories = load_stories(cnn_directory)\n",
    "print('Loaded Stories %d' % len(cnn_stories))"
   ]
  },
  {
   "cell_type": "code",
   "execution_count": 14,
   "metadata": {},
   "outputs": [],
   "source": [
    "import pandas as pd\n",
    "pd.set_option('display.max_colwidth', -1)\n",
    "pd.set_option('display.max_rows', 999)\n",
    "pd.set_option('display.max_columns', 999)\n",
    "pd.set_option('display.width', 999)\n",
    "cnn_df = pd.DataFrame.from_dict(cnn_stories)"
   ]
  },
  {
   "cell_type": "code",
   "execution_count": 19,
   "metadata": {},
   "outputs": [],
   "source": [
    "cnn_df.columns = ['summary', 'article']\n",
    "cnn_df.to_csv('../data/CleanedCNN.csv')"
   ]
  },
  {
   "cell_type": "code",
   "execution_count": 28,
   "metadata": {},
   "outputs": [
    {
     "name": "stdout",
     "output_type": "stream",
     "text": [
      "Loaded Stories 219506\n"
     ]
    }
   ],
   "source": [
    "dailymail_directory = '../../../Documents/dailymail/stories/'\n",
    "dailymail_stories = load_stories(dailymail_directory)\n",
    "print('Loaded Stories %d' % len(dailymail_stories))"
   ]
  },
  {
   "cell_type": "code",
   "execution_count": 31,
   "metadata": {},
   "outputs": [],
   "source": [
    "dailymail_df = pd.DataFrame.from_dict(dailymail_stories)\n",
    "dailymail_df.columns = ['summary', 'article']"
   ]
  },
  {
   "cell_type": "code",
   "execution_count": 48,
   "metadata": {},
   "outputs": [],
   "source": [
    "dailymail_df = dailymail_df.replace({'\\n': ''}, regex=True)\n",
    "dailymail_df = dailymail_df.replace({'\\t': ''}, regex=True)\n",
    "dailymail_df.to_csv('../data/CleanedDailyMail.csv')"
   ]
  }
 ],
 "metadata": {
  "kernelspec": {
   "display_name": "Python 3",
   "language": "python",
   "name": "python3"
  },
  "language_info": {
   "codemirror_mode": {
    "name": "ipython",
    "version": 3
   },
   "file_extension": ".py",
   "mimetype": "text/x-python",
   "name": "python",
   "nbconvert_exporter": "python",
   "pygments_lexer": "ipython3",
   "version": "3.6.3"
  }
 },
 "nbformat": 4,
 "nbformat_minor": 2
}
