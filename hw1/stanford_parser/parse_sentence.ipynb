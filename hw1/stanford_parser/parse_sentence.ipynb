{
 "cells": [
  {
   "cell_type": "code",
   "execution_count": 2,
   "metadata": {},
   "outputs": [],
   "source": [
    "import re\n",
    "import pandas as pd\n",
    "import numpy as np\n",
    "import nltk\n",
    "from nltk.parse import CoreNLPParser\n",
    "from nltk.tree import Tree"
   ]
  },
  {
   "cell_type": "code",
   "execution_count": 3,
   "metadata": {},
   "outputs": [],
   "source": [
    "parser = CoreNLPParser(url='http://localhost:9000')\n",
    "\n",
    "# To run this parser is necessary to install it and start the service as decribed in \n",
    "# https://stanfordnlp.github.io/CoreNLP/corenlp-server.html"
   ]
  },
  {
   "cell_type": "code",
   "execution_count": 4,
   "metadata": {},
   "outputs": [],
   "source": [
    "unneeded_nodes = [' $ ', '-$', '-NONE-', '#']\n",
    "\n",
    "def get_rules(tree):\n",
    "    # Get subtrees of the tree\n",
    "    subtrees = tree.subtrees()\n",
    "    rules = []\n",
    "\n",
    "    # For each subtree get the rule that generates it's immediate child node\n",
    "    for subtree in subtrees:\n",
    "        children = [ch for ch in subtree]\n",
    "\n",
    "        # Skip nodes that lead to leaves\n",
    "        if len(children) > 0 and not type(children[0]) == str:\n",
    "            # get labels of child nodes\n",
    "            child_labels = [fix_label(ch.label()) for ch in children]\n",
    "\n",
    "            # create rule string\n",
    "            curr_rule = '  '.join([subtree.label()] + child_labels)\n",
    "\n",
    "            # Exclude rules with unneeded nodes\n",
    "            if not exclude_rule(curr_rule):\n",
    "                rules.append(curr_rule)\n",
    "    return rules\n",
    "\n",
    "def fix_label(label):\n",
    "    if not re.search(r'[a-zA-Z]', label):\n",
    "        return 'Punc-' + label\n",
    "\n",
    "    return label\n",
    "\n",
    "\n",
    "def exclude_rule(rule):\n",
    "    for n in unneeded_nodes:\n",
    "        if n in rule:\n",
    "            return True\n",
    "\n",
    "    return False"
   ]
  },
  {
   "cell_type": "markdown",
   "metadata": {},
   "source": [
    "## Parsing individual sentences"
   ]
  },
  {
   "cell_type": "code",
   "execution_count": 5,
   "metadata": {},
   "outputs": [
    {
     "name": "stdout",
     "output_type": "stream",
     "text": [
      "Vocab:\n",
      "1 NNP Arthur\n",
      "1 VBZ is\n",
      "1 DT the\n",
      "1 VBG King\n",
      "1 . !\n",
      "\n",
      "Grammar:\n",
      "1 S2  S\n",
      "1 S  NP  S|<VP-.>\n",
      "1 NP  NNP\n",
      "1 S|<VP-.>  VP  Punc-.\n",
      "1 VP  VBZ  NP\n",
      "1 NP  DT  NNP\n",
      "\n"
     ]
    },
    {
     "data": {
      "image/png": "[encoded data removed]",
      "text/plain": [
       "Tree('ROOT', [Tree('S', [Tree('NP', [Tree('NNP', ['Arthur'])]), Tree('S|<VP-.>', [Tree('VP', [Tree('VBZ', ['is']), Tree('NP', [Tree('DT', ['the']), Tree('NNP', ['King'])])]), Tree('.', ['!'])])])])"
      ]
     },
     "execution_count": 5,
     "metadata": {},
     "output_type": "execute_result"
    }
   ],
   "source": [
    "# Add the sentence you'd like to parse and extract vocab and grammar\n",
    "sent = 'Arthur is the King !'\n",
    "\n",
    "tokens = nltk.word_tokenize(sent)\n",
    "pos_list = nltk.pos_tag(tokens)\n",
    "print('Vocab:')\n",
    "for i,j in pos_list:\n",
    "    print(1,j,i)\n",
    "print()\n",
    "\n",
    "tree = next(parser.raw_parse(sent))\n",
    "tree.chomsky_normal_form()\n",
    "rules = get_rules(tree)\n",
    "print('Grammar:')\n",
    "for rule in rules:\n",
    "    print(1, rule.replace('ROOT', 'S2'))\n",
    "print()\n",
    "tree"
   ]
  },
  {
   "cell_type": "code",
   "execution_count": null,
   "metadata": {},
   "outputs": [],
   "source": []
  }
 ],
 "metadata": {
  "kernelspec": {
   "display_name": "Python 3",
   "language": "python",
   "name": "python3"
  },
  "language_info": {
   "codemirror_mode": {
    "name": "ipython",
    "version": 3
   },
   "file_extension": ".py",
   "mimetype": "text/x-python",
   "name": "python",
   "nbconvert_exporter": "python",
   "pygments_lexer": "ipython3",
   "version": "3.6.5"
  }
 },
 "nbformat": 4,
 "nbformat_minor": 2
}
