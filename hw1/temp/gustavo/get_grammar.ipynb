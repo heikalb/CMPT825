{
 "cells": [
  {
   "cell_type": "code",
   "execution_count": 1,
   "metadata": {},
   "outputs": [],
   "source": [
    "from nltk.corpus import treebank\n",
    "import nltk\n",
    "import re\n",
    "import pandas as pd\n",
    "import itertools\n",
    "import csv"
   ]
  },
  {
   "cell_type": "code",
   "execution_count": 21,
   "metadata": {},
   "outputs": [],
   "source": [
    "import warnings\n",
    "warnings.simplefilter(action='ignore', category=FutureWarning)"
   ]
  },
  {
   "cell_type": "code",
   "execution_count": 2,
   "metadata": {},
   "outputs": [],
   "source": [
    "def get_rules(tree):\n",
    "    # Get subtrees of the tree\n",
    "    subtrees = tree.subtrees()\n",
    "    rules = []\n",
    "\n",
    "    # For each subtree get the rule that generates it's immediate child node\n",
    "    for subtree in subtrees:\n",
    "        children = [ch for ch in subtree]\n",
    "\n",
    "        # Skip preterminals\n",
    "        if len(children) > 1:\n",
    "            # get labels of child nodes\n",
    "            child_labels = [ch.label() for ch in children]\n",
    "\n",
    "            # create rule string\n",
    "            curr_rule = ' '.join([subtree.label()] + child_labels)\n",
    "            rules.append(curr_rule)\n",
    "\n",
    "    return rules"
   ]
  },
  {
   "cell_type": "code",
   "execution_count": 3,
   "metadata": {},
   "outputs": [],
   "source": [
    "trees_by_file = [treebank.parsed_sents(id) for id in treebank.fileids()]\n",
    "# trees_by_file = trees_by_file[0]\n",
    "\n",
    "trees = [tree for files in trees_by_file for tree in files]\n",
    "\n",
    "# converting trees into Chomsky Normal Forms\n",
    "for i in range(len(trees)):\n",
    "    tree = trees[i]\n",
    "    tree.chomsky_normal_form()  "
   ]
  },
  {
   "cell_type": "code",
   "execution_count": 22,
   "metadata": {},
   "outputs": [],
   "source": [
    " # Collect rules from treebank\n",
    "rules = [rule for tree in trees for rule in get_rules(tree)] "
   ]
  },
  {
   "cell_type": "code",
   "execution_count": 23,
   "metadata": {},
   "outputs": [],
   "source": [
    "rules_df = pd.DataFrame(data={'rules':rules})"
   ]
  },
  {
   "cell_type": "code",
   "execution_count": 24,
   "metadata": {},
   "outputs": [],
   "source": [
    "# Creating columns for each the rule components (LHS -> RHS1  RHS2)\n",
    "\n",
    "rules_df['lhs'] = rules_df.rules.apply(lambda x: x.split(' ')[0])\n",
    "rules_df['rhs1'] = rules_df.rules.apply(lambda x: x.split(' ')[1])\n",
    "rules_df['rhs2'] = rules_df.rules.apply(lambda x: x.split(' ')[2])\n",
    "\n",
    "# Cleaning the rules string\n",
    "# EX: NP-SBJ NP NP-SBJ|<,-ADJP-,>    to      NP-SBJ NP NP-SBJ\n",
    "rules_df['rhs1_clean'] = rules_df.rules.apply(lambda x: re.sub(r'\\|[^)]*\\>', '', x.split(' ')[1]))\n",
    "rules_df['rhs2_clean'] = rules_df.rules.apply(lambda x: re.sub(r'\\|[^)]*\\>', '', x.split(' ')[2]))"
   ]
  },
  {
   "cell_type": "code",
   "execution_count": 25,
   "metadata": {},
   "outputs": [],
   "source": [
    "rules_df['rules_clean'] = rules_df.apply(lambda x: x.lhs+'   '+x.rhs1_clean+'   '+x.rhs2_clean,axis=1)\n"
   ]
  },
  {
   "cell_type": "code",
   "execution_count": 31,
   "metadata": {},
   "outputs": [],
   "source": [
    "rules_clean = pd.concat([\n",
    "    rules_df[rules_df.lhs == 'S'].sort_values('rhs1')['rules_clean'].value_counts().reset_index().sort_values('index'),\n",
    "    rules_df[(rules_df.lhs.str.startswith('S')) & (rules_df.lhs != 'S')]['rules_clean'].value_counts().reset_index().sort_values('index'),\n",
    "    rules_df[(rules_df.lhs.str.startswith('S')==False) & (rules_df.lhs != 'S')]['rules_clean'].value_counts().reset_index().sort_values('index')]).rename(columns={'index':'rule','rules_clean':'frequency'})"
   ]
  },
  {
   "cell_type": "code",
   "execution_count": 32,
   "metadata": {},
   "outputs": [],
   "source": [
    "# Removing rules that have conflict with allowed_words.txt\n",
    "\n",
    "rules_clean = rules_clean[rules_clean.rule.str.contains('\\$') == False]\n",
    "rules_clean = rules_clean[rules_clean.rule.str.contains('-NONE-') == False]\n",
    "rules_clean = rules_clean[rules_clean.rule.str.contains('-LRB-') == False]\n",
    "rules_clean = rules_clean[rules_clean.rule.str.contains('\\#') == False]\n"
   ]
  },
  {
   "cell_type": "code",
   "execution_count": 33,
   "metadata": {},
   "outputs": [],
   "source": [
    "# Adding initial rule\n",
    "rules_clean = pd.concat([pd.DataFrame(data={'rule':['TOP S'], 'frequency':[1]}),\n",
    "                        rules_clean])"
   ]
  },
  {
   "cell_type": "code",
   "execution_count": 34,
   "metadata": {},
   "outputs": [],
   "source": [
    "rules_clean['final'] = rules_clean.apply(lambda x: str(x.frequency) + '   ' + x.rule, axis=1)]"
   ]
  },
  {
   "cell_type": "code",
   "execution_count": 35,
   "metadata": {},
   "outputs": [
    {
     "data": {
      "text/html": [
       "<div>\n",
       "<style scoped>\n",
       "    .dataframe tbody tr th:only-of-type {\n",
       "        vertical-align: middle;\n",
       "    }\n",
       "\n",
       "    .dataframe tbody tr th {\n",
       "        vertical-align: top;\n",
       "    }\n",
       "\n",
       "    .dataframe thead th {\n",
       "        text-align: right;\n",
       "    }\n",
       "</style>\n",
       "<table border=\"1\" class=\"dataframe\">\n",
       "  <thead>\n",
       "    <tr style=\"text-align: right;\">\n",
       "      <th></th>\n",
       "      <th>rule</th>\n",
       "      <th>frequency</th>\n",
       "      <th>final</th>\n",
       "    </tr>\n",
       "  </thead>\n",
       "  <tbody>\n",
       "    <tr>\n",
       "      <th>0</th>\n",
       "      <td>TOP S</td>\n",
       "      <td>1</td>\n",
       "      <td>1   TOP S</td>\n",
       "    </tr>\n",
       "    <tr>\n",
       "      <th>253</th>\n",
       "      <td>S   ''   S</td>\n",
       "      <td>1</td>\n",
       "      <td>1   S   UCP-ADV   S</td>\n",
       "    </tr>\n",
       "    <tr>\n",
       "      <th>44</th>\n",
       "      <td>S   ,   S</td>\n",
       "      <td>3</td>\n",
       "      <td>1   S   NP-SBJ-112   S</td>\n",
       "    </tr>\n",
       "    <tr>\n",
       "      <th>35</th>\n",
       "      <td>S   :   S</td>\n",
       "      <td>4</td>\n",
       "      <td>1   S   NP-SBJ-103   VP</td>\n",
       "    </tr>\n",
       "    <tr>\n",
       "      <th>191</th>\n",
       "      <td>S   ADJP-PRD   NP-SBJ</td>\n",
       "      <td>1</td>\n",
       "      <td>2   S   NP-SBJ-83   VP</td>\n",
       "    </tr>\n",
       "  </tbody>\n",
       "</table>\n",
       "</div>"
      ],
      "text/plain": [
       "                      rule  frequency                    final\n",
       "0                    TOP S          1                1   TOP S\n",
       "253             S   ''   S          1      1   S   UCP-ADV   S\n",
       "44               S   ,   S          3   1   S   NP-SBJ-112   S\n",
       "35               S   :   S          4  1   S   NP-SBJ-103   VP\n",
       "191  S   ADJP-PRD   NP-SBJ          1   2   S   NP-SBJ-83   VP"
      ]
     },
     "execution_count": 35,
     "metadata": {},
     "output_type": "execute_result"
    }
   ],
   "source": [
    "rules_clean.head()"
   ]
  },
  {
   "cell_type": "code",
   "execution_count": 54,
   "metadata": {},
   "outputs": [],
   "source": [
    "# Saving the grammar file\n",
    "rules_clean[['final']].to_csv('probabilistic_grammar.txt',index=False,header=False,sep='\\t')"
   ]
  },
  {
   "cell_type": "code",
   "execution_count": null,
   "metadata": {},
   "outputs": [],
   "source": []
  }
 ],
 "metadata": {
  "kernelspec": {
   "display_name": "Python 3",
   "language": "python",
   "name": "python3"
  },
  "language_info": {
   "codemirror_mode": {
    "name": "ipython",
    "version": 3
   },
   "file_extension": ".py",
   "mimetype": "text/x-python",
   "name": "python",
   "nbconvert_exporter": "python",
   "pygments_lexer": "ipython3",
   "version": "3.6.5"
  }
 },
 "nbformat": 4,
 "nbformat_minor": 2
}
