{
 "cells": [
  {
   "cell_type": "code",
   "execution_count": 34,
   "metadata": {},
   "outputs": [],
   "source": [
    "from nltk.corpus import treebank\n",
    "# use pandas to create a dataframe with the vocabulary only to sort by POS\n",
    "import pandas as pd\n",
    "import nltk\n",
    "\n",
    "def get_tags(word, preterminals):\n",
    "    tags = []\n",
    "    for pt in preterminals:\n",
    "        leaf = [child for child in pt][0]\n",
    "\n",
    "        if word == leaf and not pt.label() in tags:\n",
    "            tags.append(pt.label())\n",
    "\n",
    "    return tags"
   ]
  },
  {
   "cell_type": "code",
   "execution_count": 35,
   "metadata": {},
   "outputs": [],
   "source": [
    "# Get allowed words\n",
    "allowed_words_file = open('allowed_words.txt', 'r')\n",
    "allowed_words = allowed_words_file.read().split('\\n')"
   ]
  },
  {
   "cell_type": "code",
   "execution_count": 36,
   "metadata": {},
   "outputs": [],
   "source": [
    "# get trees for Penn Treebank\n",
    "trees_by_file = [treebank.parsed_sents(id) for id in treebank.fileids()]\n",
    "trees = [tree for files in trees_by_file for tree in files]\n",
    "\n",
    "# converting trees into Chomsky Normal Forms\n",
    "for i in range(len(trees)):\n",
    "    tree = trees[i]\n",
    "    tree.chomsky_normal_form()"
   ]
  },
  {
   "cell_type": "code",
   "execution_count": 37,
   "metadata": {},
   "outputs": [],
   "source": [
    "preterminals = [subtree for tree in trees for subtree in tree.subtrees() if subtree.height() == 2]"
   ]
  },
  {
   "cell_type": "code",
   "execution_count": 115,
   "metadata": {},
   "outputs": [
    {
     "name": "stderr",
     "output_type": "stream",
     "text": [
      "/usr/local/lib/python3.6/site-packages/ipykernel_launcher.py:20: FutureWarning: Sorting because non-concatenation axis is not aligned. A future version\n",
      "of pandas will change to not sort by default.\n",
      "\n",
      "To accept the future behavior, pass 'sort=False'.\n",
      "\n",
      "To retain the current behavior and silence the warning, pass 'sort=True'.\n",
      "\n"
     ]
    }
   ],
   "source": [
    "# Creating a pandas dataframe with the terminals and POS\n",
    "terminals_df = pd.DataFrame(data={'POS':[], 'Word':[]})\n",
    "for leaf in preterminals:\n",
    "    terminals_df = pd.concat([terminals_df,\n",
    "                              pd.DataFrame(data={'POS':[leaf.label()], 'Word':[leaf.leaves()[0]]})])\n",
    "\n",
    "# Creating a column with the number of occurrences of the word in the corpus\n",
    "terminals_df['count'] = 1\n",
    "terminals_df_group = terminals_df.groupby(['POS','Word']).sum().reset_index()\n",
    "\n",
    "# Filter only words present in Allowed_words.txt\n",
    "terminals_df_group = terminals_df_group[terminals_df_group.Word.isin(allowed_words)]\n",
    "\n",
    "# Get words from allowed_words.txt not identified\n",
    "missing_words = list(set(allowed_words)-set(terminals_df.Word.values))\n",
    "\n",
    "missing_words_df = pd.DataFrame([nltk.pos_tag([word])[0] for word in missing_words[1:]],columns=['Word','POS'])\n",
    "missing_words_df['count'] = 1\n",
    "\n",
    "terminals_df_group = pd.concat([terminals_df_group,missing_words_df])\n",
    "\n",
    "# Saving file\n",
    "terminals_df_group[['count','POS','Word']].to_csv('newvocab.txt',sep='\\t',index=False,header=False)"
   ]
  },
  {
   "cell_type": "code",
   "execution_count": 68,
   "metadata": {},
   "outputs": [],
   "source": [
    "# Selecting and saving the unassigned words\n",
    "unassigned_words = terminals_df[terminals_df.Word.isin(allowed_words) == False]['Word'].unique()\n",
    "\n",
    "with open('unassigned_words.txt', 'w') as f:\n",
    "    f.write('\\n'.join(unassigned_words))"
   ]
  },
  {
   "cell_type": "code",
   "execution_count": null,
   "metadata": {},
   "outputs": [],
   "source": []
  }
 ],
 "metadata": {
  "kernelspec": {
   "display_name": "Python 3",
   "language": "python",
   "name": "python3"
  },
  "language_info": {
   "codemirror_mode": {
    "name": "ipython",
    "version": 3
   },
   "file_extension": ".py",
   "mimetype": "text/x-python",
   "name": "python",
   "nbconvert_exporter": "python",
   "pygments_lexer": "ipython3",
   "version": "3.6.5"
  }
 },
 "nbformat": 4,
 "nbformat_minor": 2
}
