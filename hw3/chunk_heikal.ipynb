{
 "cells": [
  {
   "cell_type": "markdown",
   "metadata": {},
   "source": [
    "# Homework: Phrasal Chunking"
   ]
  },
  {
   "cell_type": "markdown",
   "metadata": {},
   "source": [
    "This is your documentation for the chunker homework."
   ]
  },
  {
   "cell_type": "code",
   "execution_count": 1,
   "metadata": {},
   "outputs": [],
   "source": [
    "import perc\n",
    "import default\n",
    "import sys\n",
    "from collections import defaultdict\n",
    "\n",
    "feat_vec = {}\n",
    "tagset = []\n",
    "train_data = []\n",
    "\n",
    "def perc_train(train_data, tagset, numepochs):\n",
    "    feat_vec = defaultdict(int)\n",
    "    # insert your code here\n",
    "    # please limit the number of iterations of training to n iterations\n",
    "    \n",
    "    # Main loop\n",
    "    for t in range(numepochs):\n",
    "        mistakes = 0        \n",
    "        for j in train_data:\n",
    "            # Get output chunk tags from Viterbi\n",
    "            labeled_list = j[0]\n",
    "            feat_list = j[1]\n",
    "            \n",
    "            gold_tags = [i.split()[2] for i in labeled_list]\n",
    "            output_tags = perc.perc_test(feat_vec, labeled_list, feat_list, tagset, default_tag=tagset[0])\n",
    "\n",
    "            # Update weight vector if the output is incorrect\n",
    "            if output_tags != gold_tags:\n",
    "                # Get feature IDs: from training data and from Viterbi output\n",
    "                feat_ids_gold, feat_ids_output = get_feature_ids(feat_list, gold_tags, output_tags)\n",
    "                \n",
    "                for i in range(len(gold_tags)):\n",
    "                    if output_tags[i] != gold_tags[i]:\n",
    "                        for f in feat_ids_gold[i]:\n",
    "                            feat_vec[f] = feat_vec[f] + 1\n",
    "                        for f in feat_ids_output[i]:\n",
    "                            feat_vec[f] = feat_vec[f] - 1\n",
    "                \n",
    "                mistakes += 1\n",
    "\n",
    "        print('Mistakes in epoch {0}: {1} out of {2} sentences'.format(t, mistakes, len(train_data)))\n",
    "    return feat_vec\n",
    "\n",
    "\n",
    "# Helper function for perc_train. Get feature IDs from a piece of training data.\n",
    "def get_feature_ids(feat_list, gold_tags, output_tags):\n",
    "    feat_ids_gold = []\n",
    "    feat_ids_output = []\n",
    "\n",
    "    # Get list of list of features - each sublist corresponds to a word\n",
    "    feat_index = 0\n",
    "    feat_list_by_words = []\n",
    "    for i in range(len(gold_tags)):\n",
    "        (feat_index, feats) = perc.feats_for_word(feat_index, feat_list)\n",
    "        feat_list_by_words.append(feats)\n",
    "\n",
    "    # For each feature sublist, create a list of feature IDs ((feature, tag)).\n",
    "    # One set based on gold tags, another based on argmax tags\n",
    "    j = 0\n",
    "    for sublist in feat_list_by_words:\n",
    "        gold_sublist = []\n",
    "        out_sublist = []\n",
    "        for f in sublist:\n",
    "            # Feature based on bigrams of output tags\n",
    "            if f == 'B' and j > 0:\n",
    "                curr_feat_g = '{0}:{1}'.format(f, gold_tags[j - 1])\n",
    "                curr_feat_o = '{0}:{1}'.format(f, output_tags[j - 1])\n",
    "            else:\n",
    "                curr_feat_g = f\n",
    "                curr_feat_o = f\n",
    "\n",
    "            gold_sublist.append((curr_feat_g, gold_tags[j]))\n",
    "            out_sublist.append((curr_feat_o, output_tags[j]))\n",
    "\n",
    "        feat_ids_gold.append(gold_sublist)\n",
    "        feat_ids_output.append(out_sublist) \n",
    "        j += 1\n",
    "    return feat_ids_gold, feat_ids_output"
   ]
  },
  {
   "cell_type": "code",
   "execution_count": 2,
   "metadata": {},
   "outputs": [
    {
     "name": "stderr",
     "output_type": "stream",
     "text": [
      "reading data ...\n",
      "done.\n"
     ]
    },
    {
     "name": "stdout",
     "output_type": "stream",
     "text": [
      "Mistakes in epoch 0: 5654 out of 8936 sentences\n",
      "Mistakes in epoch 1: 3878 out of 8936 sentences\n",
      "Mistakes in epoch 2: 2920 out of 8936 sentences\n",
      "Mistakes in epoch 3: 2265 out of 8936 sentences\n",
      "Mistakes in epoch 4: 1755 out of 8936 sentences\n",
      "Mistakes in epoch 5: 1294 out of 8936 sentences\n",
      "Mistakes in epoch 6: 1098 out of 8936 sentences\n",
      "Mistakes in epoch 7: 971 out of 8936 sentences\n",
      "Mistakes in epoch 8: 806 out of 8936 sentences\n",
      "Mistakes in epoch 9: 663 out of 8936 sentences\n",
      "wrote model to disk\n"
     ]
    }
   ],
   "source": [
    "tagset = perc.read_tagset(\"data/tagset.txt\")\n",
    "print(\"reading data ...\", file=sys.stderr)\n",
    "train_data = perc.read_labeled_data(\"data/train.txt.gz\", \"data/train.feats.gz\", verbose=False)\n",
    "#train_data = perc.read_labeled_data(\"data/train.dev\", \"data/train.feats.dev\", verbose=False)\n",
    "print(\"done.\", file=sys.stderr)\n",
    "feat_vec = perc_train(train_data, tagset, 10)\n",
    "perc.perc_write_to_file(feat_vec, \"default.model\")\n",
    "print(\"wrote model to disk\")"
   ]
  },
  {
   "cell_type": "code",
   "execution_count": 3,
   "metadata": {},
   "outputs": [
    {
     "name": "stderr",
     "output_type": "stream",
     "text": [
      "reading test data ...\n",
      "done.\n"
     ]
    }
   ],
   "source": [
    "%%capture --no-stderr output\n",
    "print(\"reading test data ...\", file=sys.stderr)\n",
    "test_data = perc.read_labeled_data(\"data/dev.txt\", \"data/dev.feats\", verbose=False)\n",
    "print(\"done.\", file=sys.stderr)\n",
    "feat_vec = perc.perc_read_from_file(\"default.model\")\n",
    "perc.perc_testall(feat_vec, test_data, tagset)"
   ]
  },
  {
   "cell_type": "code",
   "execution_count": 4,
   "metadata": {},
   "outputs": [
    {
     "name": "stdout",
     "output_type": "stream",
     "text": [
      "processed 500 sentences with 10375 tokens and 5783 phrases; found phrases: 5747; correct phrases: 5338\n",
      "             ADJP: precision:  71.43%; recall:  75.76%; F1:  73.53; found:    105; correct:     99\n",
      "             ADVP: precision:  75.63%; recall:  73.76%; F1:  74.69; found:    197; correct:    202\n",
      "            CONJP: precision: 100.00%; recall:  60.00%; F1:  75.00; found:      3; correct:      5\n",
      "             INTJ: precision:   0.00%; recall:   0.00%; F1:   0.00; found:      0; correct:      1\n",
      "               NP: precision:  93.43%; recall:  92.60%; F1:  93.01; found:   2999; correct:   3026\n",
      "               PP: precision:  96.98%; recall:  97.46%; F1:  97.22; found:   1227; correct:   1221\n",
      "              PRT: precision:  68.42%; recall:  59.09%; F1:  63.41; found:     19; correct:     22\n",
      "             SBAR: precision:  78.45%; recall:  85.05%; F1:  81.61; found:    116; correct:    107\n",
      "               VP: precision:  93.89%; recall:  92.27%; F1:  93.08; found:   1081; correct:   1100\n",
      "accuracy:  94.98%; precision:  92.88%; recall:  92.31%; F1:  92.59\n",
      "Score: 92.59\n"
     ]
    }
   ],
   "source": [
    "import score_chunks\n",
    "boundary = \"-X-\" # something to use as boundary between sentences\n",
    "outside = \"O\" # tag used to mark the outside of any chunk\n",
    "conlleval = False # use conlleval (should be False for most use cases)\n",
    "numfeats = 2 # number of columns to consider as features, typically \"word POStag\"\n",
    "(test, _) = score_chunks.readTestFile(str(output), boundary, outside, conlleval, numfeats)\n",
    "with open(\"data/reference500.txt\") as f:\n",
    "    (reference, _) = score_chunks.readTestFile(f.read(), boundary, outside, conlleval, numfeats)\n",
    "print(\"Score: %.2f\" % score_chunks.corpus_fmeasure(reference, test, False))"
   ]
  },
  {
   "cell_type": "code",
   "execution_count": null,
   "metadata": {},
   "outputs": [],
   "source": []
  }
 ],
 "metadata": {
  "kernelspec": {
   "display_name": "Python 3",
   "language": "python",
   "name": "python3"
  },
  "language_info": {
   "codemirror_mode": {
    "name": "ipython",
    "version": 3
   },
   "file_extension": ".py",
   "mimetype": "text/x-python",
   "name": "python",
   "nbconvert_exporter": "python",
   "pygments_lexer": "ipython3",
   "version": "3.6.5"
  }
 },
 "nbformat": 4,
 "nbformat_minor": 2
}
