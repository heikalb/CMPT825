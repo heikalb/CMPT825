{
 "cells": [
  {
   "cell_type": "markdown",
   "metadata": {},
   "source": [
    "# Homework: Phrasal Chunking"
   ]
  },
  {
   "cell_type": "markdown",
   "metadata": {},
   "source": [
    "This is your documentation for the chunker homework."
   ]
  },
  {
   "cell_type": "code",
   "execution_count": 2,
   "metadata": {},
   "outputs": [],
   "source": [
    "import perc\n",
    "import default\n",
    "import sys\n",
    "from collections import defaultdict\n",
    "\n",
    "feat_vec = {}\n",
    "tagset = []\n",
    "train_data = []\n",
    "\n",
    "def perc_train(train_data, tagset, numepochs):\n",
    "    feat_vec = defaultdict(int)\n",
    "    # insert your code here\n",
    "    # please limit the number of iterations of training to n iterations\n",
    "    \n",
    "    # Main loop\n",
    "    for t in range(numepochs):\n",
    "        mistakes = 0        \n",
    "        for j in train_data:\n",
    "            # Get output chunk tags from Viterbi\n",
    "            labeled_list = j[0]\n",
    "            feat_list = j[1]\n",
    "            \n",
    "            gold_tags = [i.split()[2] for i in labeled_list]\n",
    "            output_tags = perc.perc_test(feat_vec, labeled_list, feat_list, tagset, default_tag=tagset[0])\n",
    "\n",
    "            # Update weight vector if the output is incorrect\n",
    "            if output_tags != gold_tags:\n",
    "                # Get feature IDs: from training data and from Viterbi output\n",
    "                feat_ids_gold, feat_ids_output = get_feature_ids(feat_list, gold_tags, output_tags)\n",
    "                \n",
    "                for i in range(len(gold_tags)):\n",
    "                    if output_tags[i] != gold_tags[i]:\n",
    "                        for j in range(len(feat_ids_gold[i])):\n",
    "                            update = get_update(gold_tags[i], output_tags[i], feat_ids_gold[i][j], feat_ids_output[i][j])\n",
    "                            \n",
    "                            feat_vec[feat_ids_gold[i][j]] = feat_vec[feat_ids_gold[i][j]] + update[0]\n",
    "                            feat_vec[feat_ids_output[i][j]] = feat_vec[feat_ids_output[i][j]] - update[1]\n",
    "                \n",
    "                mistakes += 1\n",
    "\n",
    "        print('Mistakes in epoch {0}: {1} out of {2} sentences'.format(t, mistakes, len(train_data)))\n",
    "    return feat_vec\n",
    "\n",
    "\n",
    "def get_update(gold_tag, output_tag, feat_id_gold, feat_id_output):\n",
    "    # Current word\n",
    "    if feat_id_gold[0][:3] == 'U02':\n",
    "        return (4, 4)\n",
    "    # Previous and next POS\n",
    "    # if feat_id_gold[0][:3] in ['U11', 'U13']:\n",
    "    #    return (2, 2)\n",
    "    \n",
    "    # Output and gold tags are of different POS\n",
    "    #if gold_tag[1:] != output_tag[1:]:\n",
    "    #    return (2, 2)\n",
    "    \n",
    "    # The POS of certain categories\n",
    "    #if gold_tag[2:] in ['PP', 'ADVP', 'ADJP'] and 'U012' in feat_id_gold[0]:\n",
    "    #    return (4, 4)\n",
    "    \n",
    "    # Bigram feature on chunk tags\n",
    "    if feat_id_gold[0][0] == 'B':\n",
    "        return (4, 4)\n",
    "    \n",
    "    # Features around conjunctions\n",
    "    if 'CONJP' in gold_tag:\n",
    "        if feat_id_gold[0][:3] in ['U02', 'U12', 'U11'] :\n",
    "            #and feat_id_gold[0][3:].split('/')[0] == feat_id_gold[0][3:].split('/')[2]:\n",
    "            return (6, 6)\n",
    "\n",
    "    if 'ADJP' in gold_tag and (feat_id_gold[0][0] == 'B'):\n",
    "        return (6, 6)\n",
    "    \n",
    "    # Surrounding POSs\n",
    "    if feat_id_gold[0][:3] in ['U10', 'U12', 'U13']:\n",
    "        return (4, 4)\n",
    "    \n",
    "    # POS after adjectives\n",
    "    if 'ADJP' in gold_tag and feat_id_gold[0][:3] in ['U13']:\n",
    "        return (4, 4)\n",
    "        \n",
    "    return (1, 1)\n",
    "\n",
    "# Helper function for perc_train. Get feature IDs from a piece of training data.\n",
    "def get_feature_ids(feat_list, gold_tags, output_tags):\n",
    "    feat_ids_gold = []\n",
    "    feat_ids_output = []\n",
    "\n",
    "    # Get list of list of features - each sublist corresponds to a word\n",
    "    feat_index = 0\n",
    "    feat_list_by_words = []\n",
    "    for i in range(len(gold_tags)):\n",
    "        (feat_index, feats) = perc.feats_for_word(feat_index, feat_list)\n",
    "        feat_list_by_words.append(feats)\n",
    "\n",
    "    # For each feature sublist, create a list of feature IDs ((feature, tag)).\n",
    "    # One set based on gold tags, another based on argmax tags\n",
    "    j = 0\n",
    "    for sublist in feat_list_by_words:\n",
    "        gold_sublist = []\n",
    "        out_sublist = []\n",
    "        for f in sublist:\n",
    "            # Feature based on bigrams of output tags\n",
    "            if f == 'B' and j > 0:\n",
    "                curr_feat_g = '{0}:{1}'.format(f, gold_tags[j - 1])\n",
    "                curr_feat_o = '{0}:{1}'.format(f, output_tags[j - 1])\n",
    "            else:\n",
    "                curr_feat_g = f\n",
    "                curr_feat_o = f\n",
    "\n",
    "            gold_sublist.append((curr_feat_g, gold_tags[j]))\n",
    "            out_sublist.append((curr_feat_o, output_tags[j]))\n",
    "\n",
    "        feat_ids_gold.append(gold_sublist)\n",
    "        feat_ids_output.append(out_sublist) \n",
    "        j += 1\n",
    "    return feat_ids_gold, feat_ids_output"
   ]
  },
  {
   "cell_type": "code",
   "execution_count": 3,
   "metadata": {},
   "outputs": [
    {
     "name": "stderr",
     "output_type": "stream",
     "text": [
      "reading data ...\n",
      "done.\n"
     ]
    },
    {
     "name": "stdout",
     "output_type": "stream",
     "text": [
      "Mistakes in epoch 0: 5672 out of 8936 sentences\n",
      "Mistakes in epoch 1: 4289 out of 8936 sentences\n",
      "Mistakes in epoch 2: 3545 out of 8936 sentences\n",
      "Mistakes in epoch 3: 3004 out of 8936 sentences\n",
      "Mistakes in epoch 4: 2565 out of 8936 sentences\n",
      "Mistakes in epoch 5: 2174 out of 8936 sentences\n",
      "Mistakes in epoch 6: 1845 out of 8936 sentences\n",
      "Mistakes in epoch 7: 1571 out of 8936 sentences\n",
      "Mistakes in epoch 8: 1455 out of 8936 sentences\n",
      "Mistakes in epoch 9: 1242 out of 8936 sentences\n",
      "wrote model to disk\n"
     ]
    }
   ],
   "source": [
    "tagset = perc.read_tagset(\"data/tagset.txt\")\n",
    "print(\"reading data ...\", file=sys.stderr)\n",
    "train_data = perc.read_labeled_data(\"data/train.txt.gz\", \"data/train.feats.gz\", verbose=False)\n",
    "#train_data = perc.read_labeled_data(\"data/train.dev\", \"data/train.feats.dev\", verbose=False)\n",
    "print(\"done.\", file=sys.stderr)\n",
    "feat_vec = perc_train(train_data, tagset, 10)\n",
    "perc.perc_write_to_file(feat_vec, \"default.model\")\n",
    "print(\"wrote model to disk\")"
   ]
  },
  {
   "cell_type": "code",
   "execution_count": 4,
   "metadata": {},
   "outputs": [
    {
     "name": "stderr",
     "output_type": "stream",
     "text": [
      "reading test data ...\n",
      "done.\n"
     ]
    }
   ],
   "source": [
    "%%capture --no-stderr output\n",
    "print(\"reading test data ...\", file=sys.stderr)\n",
    "test_data = perc.read_labeled_data(\"data/dev.txt\", \"data/dev.feats\", verbose=False)\n",
    "print(\"done.\", file=sys.stderr)\n",
    "feat_vec = perc.perc_read_from_file(\"default.model\")\n",
    "perc.perc_testall(feat_vec, test_data, tagset)"
   ]
  },
  {
   "cell_type": "code",
   "execution_count": 5,
   "metadata": {},
   "outputs": [
    {
     "name": "stdout",
     "output_type": "stream",
     "text": [
      "processed 500 sentences with 10375 tokens and 5783 phrases; found phrases: 5619; correct phrases: 5174\n",
      "             ADJP: precision:  71.57%; recall:  73.74%; F1:  72.64; found:    102; correct:     99\n",
      "             ADVP: precision:  78.24%; recall:  74.75%; F1:  76.46; found:    193; correct:    202\n",
      "            CONJP: precision:   0.00%; recall:   0.00%; F1:   0.00; found:      2; correct:      5\n",
      "             INTJ: precision:   0.00%; recall:   0.00%; F1:   0.00; found:      0; correct:      1\n",
      "               NP: precision:  92.51%; recall:  89.33%; F1:  90.89; found:   2922; correct:   3026\n",
      "               PP: precision:  96.59%; recall:  95.25%; F1:  95.92; found:   1204; correct:   1221\n",
      "              PRT: precision:  80.00%; recall:  36.36%; F1:  50.00; found:     10; correct:     22\n",
      "             SBAR: precision:  66.67%; recall:  80.37%; F1:  72.88; found:    129; correct:    107\n",
      "               VP: precision:  93.66%; recall:  90.00%; F1:  91.79; found:   1057; correct:   1100\n",
      "accuracy:  93.90%; precision:  92.08%; recall:  89.47%; F1:  90.76\n",
      "Score: 90.76\n"
     ]
    }
   ],
   "source": [
    "import score_chunks\n",
    "boundary = \"-X-\" # something to use as boundary between sentences\n",
    "outside = \"O\" # tag used to mark the outside of any chunk\n",
    "conlleval = False # use conlleval (should be False for most use cases)\n",
    "numfeats = 2 # number of columns to consider as features, typically \"word POStag\"\n",
    "(test, _) = score_chunks.readTestFile(str(output), boundary, outside, conlleval, numfeats)\n",
    "with open(\"data/reference500.txt\") as f:\n",
    "    (reference, _) = score_chunks.readTestFile(f.read(), boundary, outside, conlleval, numfeats)\n",
    "print(\"Score: %.2f\" % score_chunks.corpus_fmeasure(reference, test, False))"
   ]
  },
  {
   "cell_type": "code",
   "execution_count": null,
   "metadata": {},
   "outputs": [],
   "source": []
  }
 ],
 "metadata": {
  "kernelspec": {
   "display_name": "Python 3",
   "language": "python",
   "name": "python3"
  },
  "language_info": {
   "codemirror_mode": {
    "name": "ipython",
    "version": 3
   },
   "file_extension": ".py",
   "mimetype": "text/x-python",
   "name": "python",
   "nbconvert_exporter": "python",
   "pygments_lexer": "ipython3",
   "version": "3.6.5"
  }
 },
 "nbformat": 4,
 "nbformat_minor": 2
}
