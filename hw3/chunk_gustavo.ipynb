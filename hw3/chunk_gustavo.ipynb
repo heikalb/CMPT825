{
 "cells": [
  {
   "cell_type": "markdown",
   "metadata": {},
   "source": [
    "# Homework: Phrasal Chunking"
   ]
  },
  {
   "cell_type": "markdown",
   "metadata": {},
   "source": [
    "This is your documentation for the chunker homework."
   ]
  },
  {
   "cell_type": "code",
   "execution_count": 1,
   "metadata": {},
   "outputs": [],
   "source": [
    "import perc\n",
    "import default\n",
    "import sys\n",
    "from collections import defaultdict\n",
    "\n",
    "feat_vec = {}\n",
    "tagset = []\n",
    "train_data = []"
   ]
  },
  {
   "cell_type": "code",
   "execution_count": 12,
   "metadata": {},
   "outputs": [
    {
     "name": "stderr",
     "output_type": "stream",
     "text": [
      "reading data ...\n",
      "done.\n"
     ]
    }
   ],
   "source": [
    "tagset = perc.read_tagset(\"data/tagset.txt\")\n",
    "print(\"reading data ...\", file=sys.stderr)\n",
    "train_data = perc.read_labeled_data(\"data/train.txt.gz\", \"data/train.feats.gz\", verbose=False)\n",
    "# train_data = perc.read_labeled_data(\"data/train.dev\", \"data/train.feats.dev\", verbose=False)\n",
    "print(\"done.\", file=sys.stderr)"
   ]
  },
  {
   "cell_type": "code",
   "execution_count": 13,
   "metadata": {},
   "outputs": [],
   "source": [
    "# Helper function for perc_train. Get feature IDs from a piece of training data.\n",
    "def get_feature_ids(feat_list, gold_tags, output_tags):\n",
    "    feat_ids_gold = []\n",
    "    feat_ids_output = []\n",
    "\n",
    "    # Get list of list of features - each sublist corresponds to a word\n",
    "    feat_index = 0\n",
    "    feat_list_by_words = []\n",
    "    for i in range(len(gold_tags)):\n",
    "        (feat_index, feats) = perc.feats_for_word(feat_index, feat_list)\n",
    "        feat_list_by_words.append(feats)\n",
    "\n",
    "    # For each feature sublist, create a list of feature IDs ((feature, tag)).\n",
    "    # One set based on gold tags, another based on argmax tags\n",
    "    j = 0\n",
    "    for sublist in feat_list_by_words:\n",
    "        gold_sublist = []\n",
    "        out_sublist = []\n",
    "        for f in sublist:\n",
    "            # Feature based on bigrams of output tags\n",
    "            if f == 'B' and j > 0:\n",
    "                curr_feat_g = '{0}:{1}'.format(f, gold_tags[j - 1])\n",
    "                curr_feat_o = '{0}:{1}'.format(f, output_tags[j - 1])\n",
    "            else:\n",
    "                curr_feat_g = f\n",
    "                curr_feat_o = f\n",
    "\n",
    "            gold_sublist.append((curr_feat_g, gold_tags[j]))\n",
    "            out_sublist.append((curr_feat_o, output_tags[j]))\n",
    "\n",
    "        feat_ids_gold.append(gold_sublist)\n",
    "        feat_ids_output.append(out_sublist)\n",
    "\n",
    "        j += 1\n",
    "    return feat_ids_gold, feat_ids_output"
   ]
  },
  {
   "cell_type": "code",
   "execution_count": 27,
   "metadata": {},
   "outputs": [],
   "source": [
    "def perc_train(train_data, tagset, numepochs):\n",
    "    feat_vec = defaultdict(int)\n",
    "    sigma_vec = defaultdict(int)\n",
    "    gamma_vec = defaultdict(int)\n",
    "    tau_vec = defaultdict(int)\n",
    "    T = numepochs\n",
    "    m = len(train_data)\n",
    "\n",
    "    # Main loop\n",
    "    for t in range(T):\n",
    "        print('EPOCH:',t+1)\n",
    "        mistakes = 0\n",
    "        print('train_data:',end=' ')\n",
    "        \n",
    "        for i in range(m):\n",
    "            if i%1000 == 0:\n",
    "                print(i,end=' ')\n",
    "\n",
    "            # Get output chunk tags from Viterbi\n",
    "            labeled_list = train_data[i][0]\n",
    "            feat_list = train_data[i][1]\n",
    "\n",
    "            gold_tags = [ll.split()[2] for ll in labeled_list]\n",
    "            output_tags = perc.perc_test(feat_vec, labeled_list, feat_list, tagset, default_tag=tagset[0])\n",
    "            \n",
    "            if t != T-1 & i != m-1:\n",
    "                \n",
    "                # Update weight vector if the output is incorrect\n",
    "                if output_tags != gold_tags:\n",
    "\n",
    "                    # Get feature IDs: from training data and from Viterbi output\n",
    "                    feat_ids_gold, feat_ids_output = get_feature_ids(feat_list, gold_tags, output_tags)\n",
    "\n",
    "                    for k in range(len(gold_tags)):\n",
    "                        for f in feat_ids_gold[k]:\n",
    "                            if f in tau_vec.keys():\n",
    "                                sigma_vec[f] = sigma_vec[f] + feat_vec[f] * (t * m + i - tau_vec[f][1] * m - tau_vec[f][0])\n",
    "                            \n",
    "                        for f in feat_ids_output[k]:\n",
    "                            if f in tau_vec.keys():\n",
    "                                sigma_vec[f] = sigma_vec[f] + feat_vec[f] * (t * m + i - tau_vec[f][1] * m - tau_vec[f][0])\n",
    "\n",
    "                        if output_tags[k] != gold_tags[k]:\n",
    "                            for f in feat_ids_gold[k]:\n",
    "                                feat_vec[f] = feat_vec[f] + 1\n",
    "                                sigma_vec[f] = sigma_vec[f] + 1\n",
    "                            for f in feat_ids_output[k]:\n",
    "                                feat_vec[f] = feat_vec[f] - 1\n",
    "                                sigma_vec[f] = sigma_vec[f] - 1\n",
    "                        \n",
    "                        # record the location where the dimension tag is updated\n",
    "                        for f in feat_ids_gold[k]:\n",
    "                            tau_vec[f] = [i, t]\n",
    "                        for f in feat_ids_output[k]:\n",
    "                            tau_vec[f] = [i, t]\n",
    "\n",
    "                    mistakes += 1\n",
    "            else:\n",
    "               # to deal with the last sentence in the last iteration\n",
    "               # Get feature IDs: from training data and from Viterbi output\n",
    "                feat_ids_gold, feat_ids_output = get_feature_ids(feat_list, gold_tags, output_tags)\n",
    "\n",
    "                for f in tau_vec.keys():\n",
    "                    sigma_vec[f] = sigma_vec[f] + feat_vec[f] * (T * m + m - tau_vec[f][1] * m - tau_vec[f][0])\n",
    "\n",
    "                for k in range(len(gold_tags)):\n",
    "                    if output_tags[k] != gold_tags[k]:\n",
    "                        for g in feat_ids_gold[k]:\n",
    "                            feat_vec[g] = feat_vec[g] + 1\n",
    "                            sigma_vec[g] = sigma_vec[g] + 1\n",
    "                        for g in feat_ids_output[k]:\n",
    "                            feat_vec[g] = feat_vec[g] - 1\n",
    "                            sigma_vec[g] = sigma_vec[g] - 1\n",
    "\n",
    "        print('\\nMistakes in epoch {0}: {1} out of {2} sentences'.format(t+1, mistakes, len(train_data)))\n",
    "    \n",
    "    for key in sigma_vec.keys():\n",
    "        sigma_vec[key] = sigma_vec[key]/(m*T)\n",
    "        \n",
    "    return sigma_vec"
   ]
  },
  {
   "cell_type": "code",
   "execution_count": 28,
   "metadata": {},
   "outputs": [
    {
     "name": "stdout",
     "output_type": "stream",
     "text": [
      "EPOCH: 0\n",
      "train_data: 0 1000 2000 3000 4000 5000 6000 7000 8000 \n",
      "Mistakes in epoch 0: 4256 out of 8936 sentences\n",
      "EPOCH: 1\n",
      "train_data: 0 1000 2000 3000 4000 5000 6000 7000 8000 \n",
      "Mistakes in epoch 1: 2906 out of 8936 sentences\n",
      "EPOCH: 2\n",
      "train_data: 0 1000 2000 3000 4000 5000 6000 7000 8000 \n",
      "Mistakes in epoch 2: 2920 out of 8936 sentences\n",
      "EPOCH: 3\n",
      "train_data: 0 1000 2000 3000 4000 5000 6000 7000 8000 \n",
      "Mistakes in epoch 3: 2265 out of 8936 sentences\n",
      "EPOCH: 4\n",
      "train_data: 0 1000 2000 3000 4000 5000 6000 7000 8000 \n",
      "Mistakes in epoch 4: 1755 out of 8936 sentences\n",
      "EPOCH: 5\n",
      "train_data: 0 1000 2000 3000 4000 5000 6000 7000 8000 \n",
      "Mistakes in epoch 5: 1294 out of 8936 sentences\n",
      "EPOCH: 6\n",
      "train_data: 0 1000 2000 3000 4000 5000 6000 7000 8000 \n",
      "Mistakes in epoch 6: 1098 out of 8936 sentences\n",
      "EPOCH: 7\n",
      "train_data: 0 1000 2000 3000 4000 5000 6000 7000 8000 \n",
      "Mistakes in epoch 7: 971 out of 8936 sentences\n",
      "EPOCH: 8\n",
      "train_data: 0 1000 2000 3000 4000 5000 6000 7000 8000 \n",
      "Mistakes in epoch 8: 627 out of 8936 sentences\n",
      "EPOCH: 9\n",
      "train_data: 0 1000 2000 3000 4000 5000 6000 7000 8000 \n",
      "Mistakes in epoch 9: 503 out of 8936 sentences\n",
      "CPU times: user 1h 45min 45s, sys: 1min 17s, total: 1h 47min 2s\n",
      "Wall time: 1h 49min 55s\n"
     ]
    }
   ],
   "source": [
    "%%time\n",
    "feat_vec = perc_train(train_data, tagset, 10)"
   ]
  },
  {
   "cell_type": "code",
   "execution_count": 29,
   "metadata": {},
   "outputs": [
    {
     "name": "stdout",
     "output_type": "stream",
     "text": [
      "wrote model to disk\n"
     ]
    }
   ],
   "source": [
    "perc.perc_write_to_file(feat_vec, \"default.model\")\n",
    "print(\"wrote model to disk\")"
   ]
  },
  {
   "cell_type": "code",
   "execution_count": 30,
   "metadata": {},
   "outputs": [
    {
     "name": "stderr",
     "output_type": "stream",
     "text": [
      "reading test data ...\n",
      "done.\n"
     ]
    }
   ],
   "source": [
    "%%capture --no-stderr output\n",
    "print(\"reading test data ...\", file=sys.stderr)\n",
    "test_data = perc.read_labeled_data(\"data/dev.txt\", \"data/dev.feats\", verbose=False)\n",
    "print(\"done.\", file=sys.stderr)\n",
    "feat_vec = perc.perc_read_from_file(\"default.model\")\n",
    "perc.perc_testall(feat_vec, test_data, tagset)"
   ]
  },
  {
   "cell_type": "code",
   "execution_count": 31,
   "metadata": {},
   "outputs": [
    {
     "name": "stdout",
     "output_type": "stream",
     "text": [
      "processed 500 sentences with 10375 tokens and 5783 phrases; found phrases: 5812; correct phrases: 5422\n",
      "             ADJP: precision:  75.00%; recall:  75.76%; F1:  75.38; found:    100; correct:     99\n",
      "             ADVP: precision:  77.18%; recall:  78.71%; F1:  77.94; found:    206; correct:    202\n",
      "            CONJP: precision:  75.00%; recall:  60.00%; F1:  66.67; found:      4; correct:      5\n",
      "             INTJ: precision:   0.00%; recall:   0.00%; F1:   0.00; found:      0; correct:      1\n",
      "               NP: precision:  94.10%; recall:  94.35%; F1:  94.22; found:   3034; correct:   3026\n",
      "               PP: precision:  96.85%; recall:  98.20%; F1:  97.52; found:   1238; correct:   1221\n",
      "              PRT: precision:  80.00%; recall:  72.73%; F1:  76.19; found:     20; correct:     22\n",
      "             SBAR: precision:  85.29%; recall:  81.31%; F1:  83.25; found:    102; correct:    107\n",
      "               VP: precision:  92.78%; recall:  93.45%; F1:  93.12; found:   1108; correct:   1100\n",
      "accuracy:  95.47%; precision:  93.29%; recall:  93.76%; F1:  93.52\n",
      "Score: 93.52\n"
     ]
    }
   ],
   "source": [
    "import score_chunks\n",
    "boundary = \"-X-\" # something to use as boundary between sentences\n",
    "outside = \"O\" # tag used to mark the outside of any chunk\n",
    "conlleval = False # use conlleval (should be False for most use cases)\n",
    "numfeats = 2 # number of columns to consider as features, typically \"word POStag\"\n",
    "(test, _) = score_chunks.readTestFile(str(output), boundary, outside, conlleval, numfeats)\n",
    "with open(\"data/reference500.txt\") as f:\n",
    "    (reference, _) = score_chunks.readTestFile(f.read(), boundary, outside, conlleval, numfeats)\n",
    "print(\"Score: %.2f\" % score_chunks.corpus_fmeasure(reference, test, False))"
   ]
  },
  {
   "cell_type": "code",
   "execution_count": null,
   "metadata": {},
   "outputs": [],
   "source": []
  }
 ],
 "metadata": {
  "kernelspec": {
   "display_name": "Python 3",
   "language": "python",
   "name": "python3"
  },
  "language_info": {
   "codemirror_mode": {
    "name": "ipython",
    "version": 3
   },
   "file_extension": ".py",
   "mimetype": "text/x-python",
   "name": "python",
   "nbconvert_exporter": "python",
   "pygments_lexer": "ipython3",
   "version": "3.6.5"
  }
 },
 "nbformat": 4,
 "nbformat_minor": 2
}
