{
 "cells": [
  {
   "cell_type": "markdown",
   "metadata": {},
   "source": [
    "# Homework: Phrasal Chunking"
   ]
  },
  {
   "cell_type": "markdown",
   "metadata": {},
   "source": [
    "This is your documentation for the chunker homework."
   ]
  },
  {
   "cell_type": "code",
   "execution_count": 9,
   "metadata": {},
   "outputs": [],
   "source": [
    "import perc\n",
    "import default\n",
    "import sys\n",
    "from collections import defaultdict\n",
    "\n",
    "feat_vec = {}\n",
    "tagset = []\n",
    "train_data = []\n",
    "\n",
    "def perc_train(train_data, tagset, numepochs):\n",
    "    feat_vec = defaultdict(int)\n",
    "    # insert your code here\n",
    "    # please limit the number of iterations of training to n iterations\n",
    "    \n",
    "    target_tags = ['B-SBAR', 'B-ADJP', 'I-ADJP', 'B-ADVP', 'I-ADVP', 'I-PP', 'B-PRT', 'I-SBAR', 'B-CONJP', 'I-CONJP']\n",
    "    to_recycle= []\n",
    "    for j in train_data:\n",
    "        gold_tags = [i.split()[2] for i in j[0]]\n",
    "        \n",
    "        if any(t in gold_tags for t in target_tags):\n",
    "            to_recycle.append(j)\n",
    "            \n",
    "    train_data += to_recycle\n",
    "    \n",
    "    # Main loop\n",
    "    for t in range(numepochs):\n",
    "        mistakes = 0        \n",
    "        for j in train_data:\n",
    "            # Get output chunk tags from Viterbi\n",
    "            labeled_list = j[0]\n",
    "            feat_list = j[1]\n",
    "            \n",
    "            gold_tags = [i.split()[2] for i in labeled_list]\n",
    "            output_tags = perc.perc_test(feat_vec, labeled_list, feat_list, tagset, default_tag=tagset[0])\n",
    "\n",
    "            # Update weight vector if the output is incorrect\n",
    "            if output_tags != gold_tags:\n",
    "                # Get feature IDs: from training data and from Viterbi output\n",
    "                feat_ids_gold, feat_ids_output = get_feature_ids(feat_list, gold_tags, output_tags)\n",
    "                \n",
    "                for i in range(len(gold_tags)):\n",
    "                    if output_tags[i] != gold_tags[i]:\n",
    "                        for f in feat_ids_gold[i]:\n",
    "                            feat_vec[f] = feat_vec[f] + 1\n",
    "                        for f in feat_ids_output[i]:\n",
    "                            feat_vec[f] = feat_vec[f] - 1\n",
    "                \n",
    "                mistakes += 1\n",
    "\n",
    "        print('Mistakes in epoch {0}: {1} out of {2} sentences'.format(t, mistakes, len(train_data)))\n",
    "    return feat_vec\n",
    "\n",
    "\n",
    "# Helper function for perc_train. Get feature IDs from a piece of training data.\n",
    "def get_feature_ids(feat_list, gold_tags, output_tags):\n",
    "    feat_ids_gold = []\n",
    "    feat_ids_output = []\n",
    "\n",
    "    # Get list of list of features - each sublist corresponds to a word\n",
    "    feat_index = 0\n",
    "    feat_list_by_words = []\n",
    "    for i in range(len(gold_tags)):\n",
    "        (feat_index, feats) = perc.feats_for_word(feat_index, feat_list)\n",
    "        feat_list_by_words.append(feats)\n",
    "\n",
    "    # For each feature sublist, create a list of feature IDs ((feature, tag)).\n",
    "    # One set based on gold tags, another based on argmax tags\n",
    "    j = 0\n",
    "    for sublist in feat_list_by_words:\n",
    "        gold_sublist = []\n",
    "        out_sublist = []\n",
    "        for f in sublist:\n",
    "            # Feature based on bigrams of output tags\n",
    "            if f == 'B' and j > 0:\n",
    "                curr_feat_g = '{0}:{1}'.format(f, gold_tags[j - 1])\n",
    "                curr_feat_o = '{0}:{1}'.format(f, output_tags[j - 1])\n",
    "            else:\n",
    "                curr_feat_g = f\n",
    "                curr_feat_o = f\n",
    "\n",
    "            gold_sublist.append((curr_feat_g, gold_tags[j]))\n",
    "            out_sublist.append((curr_feat_o, output_tags[j]))\n",
    "\n",
    "        feat_ids_gold.append(gold_sublist)\n",
    "        feat_ids_output.append(out_sublist) \n",
    "        j += 1\n",
    "    return feat_ids_gold, feat_ids_output"
   ]
  },
  {
   "cell_type": "code",
   "execution_count": 10,
   "metadata": {},
   "outputs": [
    {
     "name": "stderr",
     "output_type": "stream",
     "text": [
      "reading data ...\n",
      "done.\n"
     ]
    },
    {
     "name": "stdout",
     "output_type": "stream",
     "text": [
      "Mistakes in epoch 0: 8510 out of 14275 sentences\n",
      "Mistakes in epoch 1: 4842 out of 14275 sentences\n",
      "Mistakes in epoch 2: 3059 out of 14275 sentences\n",
      "Mistakes in epoch 3: 2061 out of 14275 sentences\n",
      "Mistakes in epoch 4: 1575 out of 14275 sentences\n",
      "Mistakes in epoch 5: 1255 out of 14275 sentences\n",
      "Mistakes in epoch 6: 939 out of 14275 sentences\n",
      "Mistakes in epoch 7: 796 out of 14275 sentences\n",
      "Mistakes in epoch 8: 688 out of 14275 sentences\n",
      "Mistakes in epoch 9: 578 out of 14275 sentences\n",
      "wrote model to disk\n"
     ]
    }
   ],
   "source": [
    "tagset = perc.read_tagset(\"data/tagset.txt\")\n",
    "print(\"reading data ...\", file=sys.stderr)\n",
    "train_data = perc.read_labeled_data(\"data/train.txt.gz\", \"data/train.feats.gz\", verbose=False)\n",
    "#train_data = perc.read_labeled_data(\"data/train.dev\", \"data/train.feats.dev\", verbose=False)\n",
    "print(\"done.\", file=sys.stderr)\n",
    "feat_vec = perc_train(train_data, tagset, 10)\n",
    "perc.perc_write_to_file(feat_vec, \"default.model\")\n",
    "print(\"wrote model to disk\")"
   ]
  },
  {
   "cell_type": "code",
   "execution_count": 11,
   "metadata": {},
   "outputs": [
    {
     "name": "stderr",
     "output_type": "stream",
     "text": [
      "reading test data ...\n",
      "done.\n"
     ]
    }
   ],
   "source": [
    "%%capture --no-stderr output\n",
    "print(\"reading test data ...\", file=sys.stderr)\n",
    "test_data = perc.read_labeled_data(\"data/dev.txt\", \"data/dev.feats\", verbose=False)\n",
    "print(\"done.\", file=sys.stderr)\n",
    "feat_vec = perc.perc_read_from_file(\"default.model\")\n",
    "perc.perc_testall(feat_vec, test_data, tagset)"
   ]
  },
  {
   "cell_type": "code",
   "execution_count": 12,
   "metadata": {},
   "outputs": [
    {
     "name": "stdout",
     "output_type": "stream",
     "text": [
      "processed 500 sentences with 10375 tokens and 5783 phrases; found phrases: 5792; correct phrases: 5333\n",
      "             ADJP: precision:  66.04%; recall:  70.71%; F1:  68.29; found:    106; correct:     99\n",
      "             ADVP: precision:  73.89%; recall:  74.26%; F1:  74.07; found:    203; correct:    202\n",
      "            CONJP: precision:  75.00%; recall:  60.00%; F1:  66.67; found:      4; correct:      5\n",
      "             INTJ: precision: 100.00%; recall: 100.00%; F1: 100.00; found:      1; correct:      1\n",
      "               NP: precision:  93.43%; recall:  92.53%; F1:  92.98; found:   2997; correct:   3026\n",
      "               PP: precision:  96.46%; recall:  98.12%; F1:  97.28; found:   1242; correct:   1221\n",
      "              PRT: precision:  66.67%; recall:  63.64%; F1:  65.12; found:     21; correct:     22\n",
      "             SBAR: precision:  81.31%; recall:  81.31%; F1:  81.31; found:    107; correct:    107\n",
      "               VP: precision:  90.91%; recall:  91.82%; F1:  91.36; found:   1111; correct:   1100\n",
      "accuracy:  94.80%; precision:  92.08%; recall:  92.22%; F1:  92.15\n",
      "Score: 92.15\n"
     ]
    }
   ],
   "source": [
    "import score_chunks\n",
    "boundary = \"-X-\" # something to use as boundary between sentences\n",
    "outside = \"O\" # tag used to mark the outside of any chunk\n",
    "conlleval = False # use conlleval (should be False for most use cases)\n",
    "numfeats = 2 # number of columns to consider as features, typically \"word POStag\"\n",
    "(test, _) = score_chunks.readTestFile(str(output), boundary, outside, conlleval, numfeats)\n",
    "with open(\"data/reference500.txt\") as f:\n",
    "    (reference, _) = score_chunks.readTestFile(f.read(), boundary, outside, conlleval, numfeats)\n",
    "print(\"Score: %.2f\" % score_chunks.corpus_fmeasure(reference, test, False))"
   ]
  },
  {
   "cell_type": "code",
   "execution_count": null,
   "metadata": {},
   "outputs": [],
   "source": []
  }
 ],
 "metadata": {
  "kernelspec": {
   "display_name": "Python 3",
   "language": "python",
   "name": "python3"
  },
  "language_info": {
   "codemirror_mode": {
    "name": "ipython",
    "version": 3
   },
   "file_extension": ".py",
   "mimetype": "text/x-python",
   "name": "python",
   "nbconvert_exporter": "python",
   "pygments_lexer": "ipython3",
   "version": "3.6.5"
  }
 },
 "nbformat": 4,
 "nbformat_minor": 2
}
